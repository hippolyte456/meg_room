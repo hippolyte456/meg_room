{
 "cells": [
  {
   "cell_type": "code",
   "execution_count": 1,
   "metadata": {},
   "outputs": [],
   "source": [
    "# regarde le path\n",
    "import os\n",
    "import sys\n",
    "\n",
    "\n",
    "sys.path.append(\"/home/neurostim/Documents/meg_room\")"
   ]
  },
  {
   "cell_type": "code",
   "execution_count": 2,
   "metadata": {},
   "outputs": [
    {
     "name": "stdout",
     "output_type": "stream",
     "text": [
      "Expyriment 0.10.0 (Python 3.7.6) \n"
     ]
    }
   ],
   "source": [
    "# TODO change name to meg_room or expe_room\n",
    "import meg_room.room\n",
    "import meg_room.utils\n",
    "import meg_room._eyetracker\n",
    "import meg_room._stim_pc\n",
    "\n",
    "import importlib\n",
    "importlib.reload(meg_room.room)\n",
    "importlib.reload(meg_room._stim_pc)\n",
    "importlib.reload(meg_room._eyetracker)\n",
    "\n",
    "CONFIG_PATH = \"/home/neurostim/Documents/meg_room/meg_room/config/hardware_config.yaml\"\n",
    "USER_CONFIG_PATH = \"/home/neurostim/Documents/meg_room/meg_room/config/user_config.yaml\"\n",
    "megroom_ns  = meg_room.room.MegRoom(CONFIG_PATH, USER_CONFIG_PATH)"
   ]
  },
  {
   "cell_type": "markdown",
   "metadata": {},
   "source": [
    "## ✅ **Automated Hardware Configuration Loading**  "
   ]
  },
  {
   "cell_type": "markdown",
   "metadata": {},
   "source": [
    "### A global view of the room"
   ]
  },
  {
   "cell_type": "code",
   "execution_count": null,
   "metadata": {},
   "outputs": [],
   "source": [
    "megroom_ns.display_all()"
   ]
  },
  {
   "cell_type": "code",
   "execution_count": null,
   "metadata": {},
   "outputs": [],
   "source": [
    "megroom_ns.display_config()\n",
    "#add the direction where to find the config.yaml"
   ]
  },
  {
   "cell_type": "code",
   "execution_count": null,
   "metadata": {},
   "outputs": [],
   "source": [
    "megroom_ns.display_user_config()\n",
    "#add the direction where to find the user_config.yaml"
   ]
  },
  {
   "cell_type": "code",
   "execution_count": 7,
   "metadata": {},
   "outputs": [],
   "source": [
    "megroom_ns.display_all_hardware()"
   ]
  },
  {
   "cell_type": "code",
   "execution_count": null,
   "metadata": {},
   "outputs": [],
   "source": [
    "## penser à sauvagerder les logs de configuration "
   ]
  },
  {
   "cell_type": "markdown",
   "metadata": {},
   "source": [
    "### Stim PC"
   ]
  },
  {
   "cell_type": "code",
   "execution_count": null,
   "metadata": {},
   "outputs": [],
   "source": [
    "print(megroom_ns.stim_pc)"
   ]
  },
  {
   "cell_type": "code",
   "execution_count": null,
   "metadata": {},
   "outputs": [],
   "source": [
    "print(megroom_ns.stim_pc.port1)\n",
    "print(megroom_ns.stim_pc.port2)\n",
    "print(megroom_ns.stim_pc.port3)"
   ]
  },
  {
   "cell_type": "markdown",
   "metadata": {},
   "source": [
    "### Response buttons"
   ]
  },
  {
   "cell_type": "code",
   "execution_count": null,
   "metadata": {},
   "outputs": [],
   "source": [
    "# print(megroom_ns.response_buttons.buttons)\n",
    "print(megroom_ns.response_buttons.l_red)\n",
    "print(megroom_ns.response_buttons.r_green)\n",
    "print(megroom_ns.response_buttons)"
   ]
  },
  {
   "cell_type": "markdown",
   "metadata": {},
   "source": [
    "### Videoproj ?"
   ]
  },
  {
   "cell_type": "code",
   "execution_count": null,
   "metadata": {},
   "outputs": [],
   "source": [
    "print(megroom_ns.stim_pc.config['x_shift'])"
   ]
  },
  {
   "cell_type": "markdown",
   "metadata": {},
   "source": [
    "### Audio system"
   ]
  },
  {
   "cell_type": "code",
   "execution_count": null,
   "metadata": {},
   "outputs": [],
   "source": []
  },
  {
   "cell_type": "markdown",
   "metadata": {},
   "source": [
    "## 🔧 **Experiment Configuration Sanity Checks**"
   ]
  },
  {
   "cell_type": "code",
   "execution_count": 12,
   "metadata": {},
   "outputs": [],
   "source": [
    "megroom_ns._test_hardware()"
   ]
  },
  {
   "cell_type": "markdown",
   "metadata": {},
   "source": [
    "## 🚨 **Assistance for Debugging Hardware Malfunctions**  "
   ]
  },
  {
   "cell_type": "code",
   "execution_count": 3,
   "metadata": {},
   "outputs": [
    {
     "name": "stdout",
     "output_type": "stream",
     "text": [
      "\n",
      "🎮 Please press each response button one by one when prompted.\n",
      "⚠️ Make sure the device is ready and connected.\n",
      "👉 After pressing each button, wait until the system detects it.\n",
      "\n",
      "💡 When finished (no more buttons to press), just press 'Enter' to stop.\n",
      "\n",
      "\n",
      "🛑 Button recording stopped by user.\n",
      "\n",
      "\n",
      "📝 All recorded button addresses: []\n",
      "✅ You can now use these addresses to define your button-response mappings.\n",
      "\n"
     ]
    },
    {
     "data": {
      "text/plain": [
       "[]"
      ]
     },
     "execution_count": 3,
     "metadata": {},
     "output_type": "execute_result"
    }
   ],
   "source": [
    "megroom_ns.stim_pc.record_pressed_buttons()"
   ]
  },
  {
   "cell_type": "code",
   "execution_count": null,
   "metadata": {},
   "outputs": [],
   "source": [
    "megroom_ns.stim_pc.find_parports_addresses() #ne pas parler de ports parallèles pour l'utilisateurs !"
   ]
  },
  {
   "cell_type": "markdown",
   "metadata": {},
   "source": [
    "## 🛠️ **Enhanced Acquisition Robustness & Data Quality Assessment** "
   ]
  },
  {
   "cell_type": "code",
   "execution_count": 4,
   "metadata": {},
   "outputs": [
    {
     "name": "stdout",
     "output_type": "stream",
     "text": [
      "\n",
      "⚠️ Please make sure that raw signal recording is running.\n",
      "\n",
      "🚀 Starting to send triggers from 0 to 255...\n",
      "\n",
      "Trigger sent: 255\n",
      "✅ All triggers have been sent successfully.\n"
     ]
    }
   ],
   "source": [
    "megroom_ns.stim_pc.send_all_triggers() ## à mettre dans un autre package ?"
   ]
  },
  {
   "cell_type": "code",
   "execution_count": null,
   "metadata": {},
   "outputs": [],
   "source": [
    "from pprint import pprint\n",
    "\n",
    "stim_tree = [10, 8, [3,3], 14] # your number of different stimulus, of each class and subclasses\n",
    "encoding = meg_room.utils.get_binary_encoding(stim_tree)\n",
    "pprint(encoding)"
   ]
  },
  {
   "cell_type": "markdown",
   "metadata": {},
   "source": [
    "## 🔌 **Basic functions to communicate with devices**\n"
   ]
  },
  {
   "cell_type": "code",
   "execution_count": 7,
   "metadata": {},
   "outputs": [
    {
     "name": "stdout",
     "output_type": "stream",
     "text": [
      "<expyriment.io._parallelport.ParallelPort object at 0x7ffb101c9350>\n"
     ]
    }
   ],
   "source": [
    "megroom_ns.stim_pc.send(trigger= 155, duration= 5) #do not rely on expyrmiment"
   ]
  },
  {
   "cell_type": "code",
   "execution_count": 5,
   "metadata": {},
   "outputs": [
    {
     "name": "stdout",
     "output_type": "stream",
     "text": [
      "port2_4\n"
     ]
    },
    {
     "data": {
      "text/plain": [
       "('port2_4', 9210)"
      ]
     },
     "execution_count": 5,
     "metadata": {},
     "output_type": "execute_result"
    }
   ],
   "source": [
    "megroom_ns.stim_pc.wait_response()"
   ]
  },
  {
   "cell_type": "code",
   "execution_count": null,
   "metadata": {},
   "outputs": [],
   "source": [
    "megroom_ns.stim_pc.write_response()"
   ]
  }
 ],
 "metadata": {
  "kernelspec": {
   "display_name": "expyriment",
   "language": "python",
   "name": "python3"
  },
  "language_info": {
   "codemirror_mode": {
    "name": "ipython",
    "version": 3
   },
   "file_extension": ".py",
   "mimetype": "text/x-python",
   "name": "python",
   "nbconvert_exporter": "python",
   "pygments_lexer": "ipython3",
   "version": "3.7.6"
  }
 },
 "nbformat": 4,
 "nbformat_minor": 2
}
